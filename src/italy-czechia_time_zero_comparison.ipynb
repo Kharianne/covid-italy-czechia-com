{
 "cells": [
  {
   "cell_type": "code",
   "execution_count": 459,
   "metadata": {},
   "outputs": [],
   "source": [
    "import plotly\n",
    "import pandas as pd\n",
    "import plotly.express as px\n",
    "import plotly.graph_objects as go\n",
    "plotly.io.orca.config.executable = 'C:/Users/kharianne/AppData/Local/Programs/orca/orca.exe'"
   ]
  },
  {
   "cell_type": "code",
   "execution_count": 460,
   "metadata": {},
   "outputs": [],
   "source": [
    "conf_gl = pd.read_csv(\"../COVID-19/csse_covid_19_data/csse_covid_19_time_series/time_series_covid19_confirmed_global.csv\")\n",
    "deaths_gl = pd.read_csv(\"../COVID-19/csse_covid_19_data/csse_covid_19_time_series/time_series_covid19_deaths_global.csv\")"
   ]
  },
  {
   "cell_type": "code",
   "execution_count": 461,
   "metadata": {},
   "outputs": [],
   "source": [
    "base_country = (\"Italy\", 60480000)\n",
    "countries_to_watch = {\n",
    "    \"Czechia\": base_country[1]/10650000,\n",
    "    \"Sweden\": base_country[1]/10230000,\n",
    "    \"Erewrw\": 3\n",
    "}"
   ]
  },
  {
   "cell_type": "code",
   "execution_count": 462,
   "metadata": {},
   "outputs": [],
   "source": [
    "def clear_transpose(df, state):\n",
    "    num = df.index[0]\n",
    "    df = df.drop([\"Province/State\", \"Country/Region\", \"Lat\", \"Long\"],1)\n",
    "    df = df.transpose()\n",
    "    df = df.rename(columns={num: state})\n",
    "    df = df[df[state] > 0]\n",
    "    mapper = {}\n",
    "    for i, date in enumerate(df.index.values.tolist()):\n",
    "        mapper.update({date:i})\n",
    "    df = df.rename(mapper, axis='index')\n",
    "    return df"
   ]
  },
  {
   "cell_type": "code",
   "execution_count": 463,
   "metadata": {},
   "outputs": [],
   "source": [
    "def slice_by_country(base_df, country):\n",
    "    df = base_df[base_df[\"Country/Region\"] == country]\n",
    "    if not df.empty:\n",
    "        df = clear_transpose(df, country)\n",
    "        return df\n",
    "    else:\n",
    "        raise ValueError(f\"{country} was not found in dataframe\")"
   ]
  },
  {
   "cell_type": "code",
   "execution_count": 464,
   "metadata": {},
   "outputs": [],
   "source": [
    "def concat_slices(slices):\n",
    "    keys = [slice.columns[0] for slice in slices]\n",
    "    summary = pd.concat(slices, axis=1)\n",
    "    return summary"
   ]
  },
  {
   "cell_type": "code",
   "execution_count": 465,
   "metadata": {},
   "outputs": [],
   "source": [
    "def apply_ratio(df):\n",
    "    for country in df.columns:\n",
    "        if country == base_country[0]:\n",
    "            continue\n",
    "        df[country] = df[country].apply(lambda x: x * countries_to_watch[country])   \n",
    "    return df"
   ]
  },
  {
   "cell_type": "code",
   "execution_count": 466,
   "metadata": {},
   "outputs": [],
   "source": [
    "def plot_plotly(df, info_dict, type='png'):\n",
    "    fig = go.Figure()\n",
    "    \n",
    "    for column in df.columns:\n",
    "        fig.add_trace(go.Scatter(y=df[column],\n",
    "                    mode='lines',\n",
    "                   name=column))\n",
    "    fig.update_layout(\n",
    "        title= {\n",
    "            'text': info_dict['title_text'],\n",
    "            'y':0.9,\n",
    "            'x':0.5,\n",
    "            'xanchor': 'center',\n",
    "            'yanchor': 'top'},\n",
    "        xaxis_title=info_dict['xaxis_title'],\n",
    "        yaxis_title=info_dict['yaxis_title'])\n",
    "    fig.show(type)"
   ]
  },
  {
   "cell_type": "code",
   "execution_count": 467,
   "metadata": {},
   "outputs": [],
   "source": [
    "def get_pct_change(df):\n",
    "    pct_change_df = pd.DataFrame()\n",
    "    for column in df.columns:\n",
    "        pct_change_df[column] = df[column].pct_change(limit=1)\n",
    "    return pct_change_df"
   ]
  },
  {
   "cell_type": "code",
   "execution_count": 468,
   "metadata": {},
   "outputs": [
    {
     "name": "stdout",
     "output_type": "stream",
     "text": [
      "Erewrw was not found in dataframe\n"
     ]
    }
   ],
   "source": [
    "country_slices_conf = [slice_by_country(conf_gl, base_country[0])]\n",
    "for country in countries_to_watch:\n",
    "    try:\n",
    "        country_slices_conf.append(slice_by_country(conf_gl, country))\n",
    "    except ValueError as e:\n",
    "        print(e)\n",
    "        continue"
   ]
  },
  {
   "cell_type": "code",
   "execution_count": 469,
   "metadata": {},
   "outputs": [
    {
     "name": "stdout",
     "output_type": "stream",
     "text": [
      "Erewrw was not found in dataframe\n"
     ]
    }
   ],
   "source": [
    "country_slices_deaths = [slice_by_country(deaths_gl, base_country[0])]\n",
    "for country in countries_to_watch:\n",
    "    try:\n",
    "        country_slices_deaths.append(slice_by_country(deaths_gl, country))\n",
    "    except ValueError as e:\n",
    "        print(e)\n",
    "        continue"
   ]
  },
  {
   "cell_type": "code",
   "execution_count": 470,
   "metadata": {},
   "outputs": [
    {
     "data": {
      "text/plain": [
       "<matplotlib.axes._subplots.AxesSubplot at 0x196ce8e0>"
      ]
     },
     "execution_count": 470,
     "metadata": {},
     "output_type": "execute_result"
    },
    {
     "data": {
      "image/png": "[encoded data removed]",
      "text/plain": [
       "<Figure size 432x288 with 1 Axes>"
      ]
     },
     "metadata": {
      "needs_background": "light"
     },
     "output_type": "display_data"
    },
    {
     "data": {
      "image/png": "[encoded data removed]",
      "text/plain": [
       "<Figure size 432x288 with 1 Axes>"
      ]
     },
     "metadata": {
      "needs_background": "light"
     },
     "output_type": "display_data"
    },
    {
     "data": {
      "image/png": "[encoded data removed]",
      "text/plain": [
       "<Figure size 432x288 with 1 Axes>"
      ]
     },
     "metadata": {
      "needs_background": "light"
     },
     "output_type": "display_data"
    },
    {
     "data": {
      "image/png": "[encoded data removed]",
      "text/plain": [
       "<Figure size 432x288 with 1 Axes>"
      ]
     },
     "metadata": {
      "needs_background": "light"
     },
     "output_type": "display_data"
    }
   ],
   "source": [
    "for slice in country_slices_conf:\n",
    "    slice.plot.line()\n",
    "summary = concat_slices(country_slices_conf)\n",
    "summary = apply_ratio(summary)\n",
    "summary.plot.line()"
   ]
  },
  {
   "cell_type": "code",
   "execution_count": 471,
   "metadata": {},
   "outputs": [
    {
     "data": {
      "text/plain": [
       "<matplotlib.axes._subplots.AxesSubplot at 0x1973bfa0>"
      ]
     },
     "execution_count": 471,
     "metadata": {},
     "output_type": "execute_result"
    },
    {
     "data": {
      "image/png": "[encoded data removed]",
      "text/plain": [
       "<Figure size 432x288 with 1 Axes>"
      ]
     },
     "metadata": {
      "needs_background": "light"
     },
     "output_type": "display_data"
    },
    {
     "data": {
      "image/png": "[encoded data removed]",
      "text/plain": [
       "<Figure size 432x288 with 1 Axes>"
      ]
     },
     "metadata": {
      "needs_background": "light"
     },
     "output_type": "display_data"
    },
    {
     "data": {
      "image/png": "[encoded data removed]",
      "text/plain": [
       "<Figure size 432x288 with 1 Axes>"
      ]
     },
     "metadata": {
      "needs_background": "light"
     },
     "output_type": "display_data"
    },
    {
     "data": {
      "image/png": "[encoded data removed]",
      "text/plain": [
       "<Figure size 432x288 with 1 Axes>"
      ]
     },
     "metadata": {
      "needs_background": "light"
     },
     "output_type": "display_data"
    }
   ],
   "source": [
    "for slice in country_slices_deaths:\n",
    "    slice.plot.line()\n",
    "summary_deaths = concat_slices(country_slices_deaths)\n",
    "summary_deaths = apply_ratio(summary_deaths)\n",
    "summary_deaths.plot.line()"
   ]
  },
  {
   "cell_type": "code",
   "execution_count": 472,
   "metadata": {},
   "outputs": [
    {
     "data": {
      "image/png": "[encoded data removed]"
     },
     "metadata": {},
     "output_type": "display_data"
    }
   ],
   "source": [
    "plot_plotly(summary, {\n",
    "    'title_text': 'Number of cases comparison since first infected',\n",
    "    'xaxis_title': 'Day number',\n",
    "    'yaxis_title': 'Number of infected'  \n",
    "})"
   ]
  },
  {
   "cell_type": "code",
   "execution_count": 473,
   "metadata": {},
   "outputs": [
    {
     "data": {
      "image/png": "[encoded data removed]"
     },
     "metadata": {},
     "output_type": "display_data"
    }
   ],
   "source": [
    "plot_plotly(summary_deaths, {\n",
    "    'title_text': 'Deaths comparison since first death',\n",
    "    'xaxis_title': 'Day number',\n",
    "    'yaxis_title': 'Number of deaths'  \n",
    "})"
   ]
  },
  {
   "cell_type": "code",
   "execution_count": 474,
   "metadata": {},
   "outputs": [
    {
     "data": {
      "application/vnd.plotly.v1+json": {
       "config": {
        "plotlyServerURL": "https://plot.ly"
       },
       "data": [
        {
         "mode": "lines",
         "name": "Italy",
         "type": "scatter",
         "y": [
          null,
          0,
          0,
          0,
          0,
          0,
          0,
          0.5,
          0,
          0,
          0,
          0,
          0,
          0,
          0,
          0,
          0,
          0,
          0,
          0,
          0,
          5.666666666666667,
          2.1,
          1.5,
          0.4774193548387098,
          0.4061135371179039,
          0.4068322981366459,
          0.44591611479028703,
          0.35572519083969456,
          0.2702702702702702,
          0.50177304964539,
          0.2018890200708383,
          0.22888015717092336,
          0.23461231015187844,
          0.24894787957267717,
          0.2016588906168999,
          0.26898188093183784,
          0.2536121026687064,
          0.24366101694915243,
          0.10651984300043615,
          0.22790422701744006,
          0.2127266891349704,
          0.1685304042876994,
          0.19801812004530017,
          0.16968379259819444,
          0.1306420980320846,
          0.12601858470335947,
          0.13353012124674657,
          0.14902136476913164,
          0.14587547215791408,
          0.1394483315965207,
          0.10377393706372029,
          0.08098008048970207,
          0.08210928089852487,
          0.07531513819821911,
          0.08338934745785487,
          0.07332266190174841,
          0.06906518069781953,
          0.05641707760186865,
          0.04145809661272004,
          0.039837230560552106,
          0.04520190562613435,
          0.04221607249443804,
          0.039785841967338254,
          0.04009947674564174,
          0.034629950574491364,
          0.027910475540527946,
          0.02292771620632683,
          0.028292006549348825,
          0.030153060492605244,
          0.02750894684806382,
          0.03180712441640643,
          0.026873140650550686,
          0.020164616949022385,
          0.018631359863587438,
          0.016413519767613627,
          0.022923919953982574,
          0.0206758572519401,
          0.020245427235928037,
          0.01731988063095069,
          0.01260532373779144,
          0.015058379499856445,
          0.018319498578472038,
          0.01412503269683496,
          0.015902259794812856,
          0.012212814906162883,
          0.011896534955029736,
          0.008797268243328604,
          0.010485723168884853,
          0.010352100444157797,
          0.009194905472245773,
          0.009563765738843433,
          0.009159804847947317,
          0.006635519376289922,
          0.005794501630148385,
          0.005072238107371119,
          0.006778928985554877,
          0.006532778132679384,
          0.006147559969980287,
          0.0049865322190758565,
          0.003674381952462058,
          0.003396174738667934,
          0.006378119683004613,
          0.0040141761897873884,
          0.004466376112091552,
          0.0035365941119518407,
          0.003908256470956051,
          0.0030032034169780175,
          0.002000576662896103,
          0.0035991606385521457,
          0.0029334050878035978
         ]
        },
        {
         "mode": "lines",
         "name": "Czechia",
         "type": "scatter",
         "y": [
          null,
          0,
          0.6666666666666665,
          0.6000000000000001,
          0.5,
          0.5,
          0.05555555555555558,
          0.631578947368421,
          0,
          0.32258064516129026,
          1.2195121951219514,
          0.03296703296703285,
          0.5000000000000002,
          0.34042553191489344,
          0.3386243386243388,
          0.1778656126482212,
          0.3288590604026844,
          0.17171717171717193,
          0.4956896551724137,
          0.20028818443804042,
          0.19447779111644659,
          0.12562814070351758,
          0.10357142857142865,
          0.12783171521035608,
          0.18651362984218078,
          0.1638452237001209,
          0.183896103896104,
          0.1544537077665642,
          0.07069555302166486,
          0.06531771388001406,
          0.10229923358880377,
          0.060459492140265914,
          0.09977194982896243,
          0.06039398652151373,
          0.09313126374969438,
          0.02571556350626114,
          0.05123174187922386,
          0.0404396515968477,
          0.05880007972892165,
          0.04838102409638556,
          0.02926916861195905,
          0.01727145847871614,
          0.02743954724747022,
          0.01135035887164082,
          0.008582274302690207,
          0.01718213058419238,
          0.03490990990990994,
          0.01803202238457957,
          0.008703618873110441,
          0.021192854980320863,
          0.022828342721612715,
          0.01927536231884064,
          0.01407649651642262,
          0.007711721817162065,
          0.011966049812160762,
          0.010862092671524826,
          0.007072905331882318,
          0.005537547271744936,
          0.00792478173270661,
          0.009994669509594933,
          0.013590183401503975,
          0.007159593855766699,
          0.0023264831329974367,
          0.0033526756931012702,
          0.004883691042282479,
          0.009847806624888156,
          0.009878419452887366,
          0.007148231753197898,
          0.005727804756568311,
          0.002228550204283586,
          0.003458925262507684,
          0.006524682998892084,
          0.005503913894324919,
          0.005838705753558049,
          0.009916555810859817,
          0.006586037600287531,
          0.0058291696407326565,
          0.0023654642223536193,
          0.01309734513274341,
          0.007104588865595174,
          0.008557881346131557,
          0,
          null,
          null,
          null,
          null,
          null,
          null,
          null,
          null,
          null,
          null,
          null,
          null,
          null,
          null,
          null,
          null,
          null,
          null,
          null,
          null,
          null,
          null,
          null,
          null,
          null,
          null,
          null,
          null,
          null
         ]
        },
        {
         "mode": "lines",
         "name": "Sweden",
         "type": "scatter",
         "y": [
          null,
          0,
          0,
          0,
          0,
          0,
          0,
          0,
          0,
          0,
          0,
          0,
          0,
          0,
          0,
          0,
          0,
          0,
          0,
          0,
          0,
          0,
          0,
          0,
          0,
          0,
          1,
          2.5,
          0,
          0.7142857142857142,
          0.16666666666666674,
          0.07142857142857162,
          0.3999999999999999,
          0.6666666666666667,
          1.6857142857142855,
          0.07446808510638303,
          0.5940594059405941,
          0.26086956521739135,
          0.22167487684729048,
          0.431451612903226,
          0.408450704225352,
          0.19800000000000018,
          0.358931552587646,
          0.18058968058968072,
          0.06347554630593111,
          0.07925636007827785,
          0.07887579329102445,
          0.07478991596638673,
          0.12509773260359647,
          0.13898540653231395,
          0.07565588773642484,
          0.09699376063528065,
          0.05791106514994837,
          0.11730205278592387,
          0.10498687664041984,
          0.1243072050673002,
          0.08063380281690136,
          0.12316715542522005,
          0.0733971569480707,
          0.08864864864864841,
          0.10104270109235358,
          0.11544532130777907,
          0.1255306246209824,
          0.10111350574712641,
          0.05088892513456189,
          0.060065187024678,
          0.05505124450951682,
          0.0675825700804884,
          0.09437150656440929,
          0.08575840361088005,
          0.05951208839295474,
          0.04811564274651525,
          0.03270613732637173,
          0.0443575312410569,
          0.045396419437340185,
          0.04211446046308431,
          0.05139599228640912,
          0.053907496012759015,
          0.04585351089588374,
          0.04073216611199526,
          0.027250608272506138,
          0.03688164038708819,
          0.04451116042292136,
          0.04692576855786035,
          0.04846314532975238,
          0.03472419878180699,
          0.02547175001375357,
          0.015343347639484861,
          0.03672196977702624,
          0.034707711125834706,
          0.03891242242143633,
          0.020292053859283232,
          0.02611524163568757,
          0.010642151978987435,
          0.018102791593852308,
          0.021786012939571275,
          0.030237767057202047,
          0.029475708671293566,
          0.02607318360882105,
          0.025964773401939478,
          0.015470082172755584,
          0.0132208798723501,
          0.02257217847769044,
          0.023357289527720537,
          0.02411408506216639,
          0.021866909243579702,
          0.016092032731879424,
          0.0157023957947231,
          0.007762996383903431,
          0.01389208940975073,
          0.02350725672911458
         ]
        }
       ],
       "layout": {
        "template": {
         "data": {
          "bar": [
           {
            "error_x": {
             "color": "#2a3f5f"
            },
            "error_y": {
             "color": "#2a3f5f"
            },
            "marker": {
             "line": {
              "color": "#E5ECF6",
              "width": 0.5
             }
            },
            "type": "bar"
           }
          ],
          "barpolar": [
           {
            "marker": {
             "line": {
              "color": "#E5ECF6",
              "width": 0.5
             }
            },
            "type": "barpolar"
           }
          ],
          "carpet": [
           {
            "aaxis": {
             "endlinecolor": "#2a3f5f",
             "gridcolor": "white",
             "linecolor": "white",
             "minorgridcolor": "white",
             "startlinecolor": "#2a3f5f"
            },
            "baxis": {
             "endlinecolor": "#2a3f5f",
             "gridcolor": "white",
             "linecolor": "white",
             "minorgridcolor": "white",
             "startlinecolor": "#2a3f5f"
            },
            "type": "carpet"
           }
          ],
          "choropleth": [
           {
            "colorbar": {
             "outlinewidth": 0,
             "ticks": ""
            },
            "type": "choropleth"
           }
          ],
          "contour": [
           {
            "colorbar": {
             "outlinewidth": 0,
             "ticks": ""
            },
            "colorscale": [
             [
              0,
              "#0d0887"
             ],
             [
              0.1111111111111111,
              "#46039f"
             ],
             [
              0.2222222222222222,
              "#7201a8"
             ],
             [
              0.3333333333333333,
              "#9c179e"
             ],
             [
              0.4444444444444444,
              "#bd3786"
             ],
             [
              0.5555555555555556,
              "#d8576b"
             ],
             [
              0.6666666666666666,
              "#ed7953"
             ],
             [
              0.7777777777777778,
              "#fb9f3a"
             ],
             [
              0.8888888888888888,
              "#fdca26"
             ],
             [
              1,
              "#f0f921"
             ]
            ],
            "type": "contour"
           }
          ],
          "contourcarpet": [
           {
            "colorbar": {
             "outlinewidth": 0,
             "ticks": ""
            },
            "type": "contourcarpet"
           }
          ],
          "heatmap": [
           {
            "colorbar": {
             "outlinewidth": 0,
             "ticks": ""
            },
            "colorscale": [
             [
              0,
              "#0d0887"
             ],
             [
              0.1111111111111111,
              "#46039f"
             ],
             [
              0.2222222222222222,
              "#7201a8"
             ],
             [
              0.3333333333333333,
              "#9c179e"
             ],
             [
              0.4444444444444444,
              "#bd3786"
             ],
             [
              0.5555555555555556,
              "#d8576b"
             ],
             [
              0.6666666666666666,
              "#ed7953"
             ],
             [
              0.7777777777777778,
              "#fb9f3a"
             ],
             [
              0.8888888888888888,
              "#fdca26"
             ],
             [
              1,
              "#f0f921"
             ]
            ],
            "type": "heatmap"
           }
          ],
          "heatmapgl": [
           {
            "colorbar": {
             "outlinewidth": 0,
             "ticks": ""
            },
            "colorscale": [
             [
              0,
              "#0d0887"
             ],
             [
              0.1111111111111111,
              "#46039f"
             ],
             [
              0.2222222222222222,
              "#7201a8"
             ],
             [
              0.3333333333333333,
              "#9c179e"
             ],
             [
              0.4444444444444444,
              "#bd3786"
             ],
             [
              0.5555555555555556,
              "#d8576b"
             ],
             [
              0.6666666666666666,
              "#ed7953"
             ],
             [
              0.7777777777777778,
              "#fb9f3a"
             ],
             [
              0.8888888888888888,
              "#fdca26"
             ],
             [
              1,
              "#f0f921"
             ]
            ],
            "type": "heatmapgl"
           }
          ],
          "histogram": [
           {
            "marker": {
             "colorbar": {
              "outlinewidth": 0,
              "ticks": ""
             }
            },
            "type": "histogram"
           }
          ],
          "histogram2d": [
           {
            "colorbar": {
             "outlinewidth": 0,
             "ticks": ""
            },
            "colorscale": [
             [
              0,
              "#0d0887"
             ],
             [
              0.1111111111111111,
              "#46039f"
             ],
             [
              0.2222222222222222,
              "#7201a8"
             ],
             [
              0.3333333333333333,
              "#9c179e"
             ],
             [
              0.4444444444444444,
              "#bd3786"
             ],
             [
              0.5555555555555556,
              "#d8576b"
             ],
             [
              0.6666666666666666,
              "#ed7953"
             ],
             [
              0.7777777777777778,
              "#fb9f3a"
             ],
             [
              0.8888888888888888,
              "#fdca26"
             ],
             [
              1,
              "#f0f921"
             ]
            ],
            "type": "histogram2d"
           }
          ],
          "histogram2dcontour": [
           {
            "colorbar": {
             "outlinewidth": 0,
             "ticks": ""
            },
            "colorscale": [
             [
              0,
              "#0d0887"
             ],
             [
              0.1111111111111111,
              "#46039f"
             ],
             [
              0.2222222222222222,
              "#7201a8"
             ],
             [
              0.3333333333333333,
              "#9c179e"
             ],
             [
              0.4444444444444444,
              "#bd3786"
             ],
             [
              0.5555555555555556,
              "#d8576b"
             ],
             [
              0.6666666666666666,
              "#ed7953"
             ],
             [
              0.7777777777777778,
              "#fb9f3a"
             ],
             [
              0.8888888888888888,
              "#fdca26"
             ],
             [
              1,
              "#f0f921"
             ]
            ],
            "type": "histogram2dcontour"
           }
          ],
          "mesh3d": [
           {
            "colorbar": {
             "outlinewidth": 0,
             "ticks": ""
            },
            "type": "mesh3d"
           }
          ],
          "parcoords": [
           {
            "line": {
             "colorbar": {
              "outlinewidth": 0,
              "ticks": ""
             }
            },
            "type": "parcoords"
           }
          ],
          "pie": [
           {
            "automargin": true,
            "type": "pie"
           }
          ],
          "scatter": [
           {
            "marker": {
             "colorbar": {
              "outlinewidth": 0,
              "ticks": ""
             }
            },
            "type": "scatter"
           }
          ],
          "scatter3d": [
           {
            "line": {
             "colorbar": {
              "outlinewidth": 0,
              "ticks": ""
             }
            },
            "marker": {
             "colorbar": {
              "outlinewidth": 0,
              "ticks": ""
             }
            },
            "type": "scatter3d"
           }
          ],
          "scattercarpet": [
           {
            "marker": {
             "colorbar": {
              "outlinewidth": 0,
              "ticks": ""
             }
            },
            "type": "scattercarpet"
           }
          ],
          "scattergeo": [
           {
            "marker": {
             "colorbar": {
              "outlinewidth": 0,
              "ticks": ""
             }
            },
            "type": "scattergeo"
           }
          ],
          "scattergl": [
           {
            "marker": {
             "colorbar": {
              "outlinewidth": 0,
              "ticks": ""
             }
            },
            "type": "scattergl"
           }
          ],
          "scattermapbox": [
           {
            "marker": {
             "colorbar": {
              "outlinewidth": 0,
              "ticks": ""
             }
            },
            "type": "scattermapbox"
           }
          ],
          "scatterpolar": [
           {
            "marker": {
             "colorbar": {
              "outlinewidth": 0,
              "ticks": ""
             }
            },
            "type": "scatterpolar"
           }
          ],
          "scatterpolargl": [
           {
            "marker": {
             "colorbar": {
              "outlinewidth": 0,
              "ticks": ""
             }
            },
            "type": "scatterpolargl"
           }
          ],
          "scatterternary": [
           {
            "marker": {
             "colorbar": {
              "outlinewidth": 0,
              "ticks": ""
             }
            },
            "type": "scatterternary"
           }
          ],
          "surface": [
           {
            "colorbar": {
             "outlinewidth": 0,
             "ticks": ""
            },
            "colorscale": [
             [
              0,
              "#0d0887"
             ],
             [
              0.1111111111111111,
              "#46039f"
             ],
             [
              0.2222222222222222,
              "#7201a8"
             ],
             [
              0.3333333333333333,
              "#9c179e"
             ],
             [
              0.4444444444444444,
              "#bd3786"
             ],
             [
              0.5555555555555556,
              "#d8576b"
             ],
             [
              0.6666666666666666,
              "#ed7953"
             ],
             [
              0.7777777777777778,
              "#fb9f3a"
             ],
             [
              0.8888888888888888,
              "#fdca26"
             ],
             [
              1,
              "#f0f921"
             ]
            ],
            "type": "surface"
           }
          ],
          "table": [
           {
            "cells": {
             "fill": {
              "color": "#EBF0F8"
             },
             "line": {
              "color": "white"
             }
            },
            "header": {
             "fill": {
              "color": "#C8D4E3"
             },
             "line": {
              "color": "white"
             }
            },
            "type": "table"
           }
          ]
         },
         "layout": {
          "annotationdefaults": {
           "arrowcolor": "#2a3f5f",
           "arrowhead": 0,
           "arrowwidth": 1
          },
          "coloraxis": {
           "colorbar": {
            "outlinewidth": 0,
            "ticks": ""
           }
          },
          "colorscale": {
           "diverging": [
            [
             0,
             "#8e0152"
            ],
            [
             0.1,
             "#c51b7d"
            ],
            [
             0.2,
             "#de77ae"
            ],
            [
             0.3,
             "#f1b6da"
            ],
            [
             0.4,
             "#fde0ef"
            ],
            [
             0.5,
             "#f7f7f7"
            ],
            [
             0.6,
             "#e6f5d0"
            ],
            [
             0.7,
             "#b8e186"
            ],
            [
             0.8,
             "#7fbc41"
            ],
            [
             0.9,
             "#4d9221"
            ],
            [
             1,
             "#276419"
            ]
           ],
           "sequential": [
            [
             0,
             "#0d0887"
            ],
            [
             0.1111111111111111,
             "#46039f"
            ],
            [
             0.2222222222222222,
             "#7201a8"
            ],
            [
             0.3333333333333333,
             "#9c179e"
            ],
            [
             0.4444444444444444,
             "#bd3786"
            ],
            [
             0.5555555555555556,
             "#d8576b"
            ],
            [
             0.6666666666666666,
             "#ed7953"
            ],
            [
             0.7777777777777778,
             "#fb9f3a"
            ],
            [
             0.8888888888888888,
             "#fdca26"
            ],
            [
             1,
             "#f0f921"
            ]
           ],
           "sequentialminus": [
            [
             0,
             "#0d0887"
            ],
            [
             0.1111111111111111,
             "#46039f"
            ],
            [
             0.2222222222222222,
             "#7201a8"
            ],
            [
             0.3333333333333333,
             "#9c179e"
            ],
            [
             0.4444444444444444,
             "#bd3786"
            ],
            [
             0.5555555555555556,
             "#d8576b"
            ],
            [
             0.6666666666666666,
             "#ed7953"
            ],
            [
             0.7777777777777778,
             "#fb9f3a"
            ],
            [
             0.8888888888888888,
             "#fdca26"
            ],
            [
             1,
             "#f0f921"
            ]
           ]
          },
          "colorway": [
           "#636efa",
           "#EF553B",
           "#00cc96",
           "#ab63fa",
           "#FFA15A",
           "#19d3f3",
           "#FF6692",
           "#B6E880",
           "#FF97FF",
           "#FECB52"
          ],
          "font": {
           "color": "#2a3f5f"
          },
          "geo": {
           "bgcolor": "white",
           "lakecolor": "white",
           "landcolor": "#E5ECF6",
           "showlakes": true,
           "showland": true,
           "subunitcolor": "white"
          },
          "hoverlabel": {
           "align": "left"
          },
          "hovermode": "closest",
          "mapbox": {
           "style": "light"
          },
          "paper_bgcolor": "white",
          "plot_bgcolor": "#E5ECF6",
          "polar": {
           "angularaxis": {
            "gridcolor": "white",
            "linecolor": "white",
            "ticks": ""
           },
           "bgcolor": "#E5ECF6",
           "radialaxis": {
            "gridcolor": "white",
            "linecolor": "white",
            "ticks": ""
           }
          },
          "scene": {
           "xaxis": {
            "backgroundcolor": "#E5ECF6",
            "gridcolor": "white",
            "gridwidth": 2,
            "linecolor": "white",
            "showbackground": true,
            "ticks": "",
            "zerolinecolor": "white"
           },
           "yaxis": {
            "backgroundcolor": "#E5ECF6",
            "gridcolor": "white",
            "gridwidth": 2,
            "linecolor": "white",
            "showbackground": true,
            "ticks": "",
            "zerolinecolor": "white"
           },
           "zaxis": {
            "backgroundcolor": "#E5ECF6",
            "gridcolor": "white",
            "gridwidth": 2,
            "linecolor": "white",
            "showbackground": true,
            "ticks": "",
            "zerolinecolor": "white"
           }
          },
          "shapedefaults": {
           "line": {
            "color": "#2a3f5f"
           }
          },
          "ternary": {
           "aaxis": {
            "gridcolor": "white",
            "linecolor": "white",
            "ticks": ""
           },
           "baxis": {
            "gridcolor": "white",
            "linecolor": "white",
            "ticks": ""
           },
           "bgcolor": "#E5ECF6",
           "caxis": {
            "gridcolor": "white",
            "linecolor": "white",
            "ticks": ""
           }
          },
          "title": {
           "x": 0.05
          },
          "xaxis": {
           "automargin": true,
           "gridcolor": "white",
           "linecolor": "white",
           "ticks": "",
           "title": {
            "standoff": 15
           },
           "zerolinecolor": "white",
           "zerolinewidth": 2
          },
          "yaxis": {
           "automargin": true,
           "gridcolor": "white",
           "linecolor": "white",
           "ticks": "",
           "title": {
            "standoff": 15
           },
           "zerolinecolor": "white",
           "zerolinewidth": 2
          }
         }
        },
        "title": {
         "text": "Percentage change between days",
         "x": 0.5,
         "xanchor": "center",
         "y": 0.9,
         "yanchor": "top"
        },
        "xaxis": {
         "title": {
          "text": "Day number"
         }
        },
        "yaxis": {
         "title": {
          "text": "Change"
         }
        }
       }
      },
      "text/html": [
       "<div>\n",
       "        \n",
       "        \n",
       "            <div id=\"be73ae00-befa-43cc-bcd7-c3d51973b3f3\" class=\"plotly-graph-div\" style=\"height:525px; width:100%;\"></div>\n",
       "            <script type=\"text/javascript\">\n",
       "                require([\"plotly\"], function(Plotly) {\n",
       "                    window.PLOTLYENV=window.PLOTLYENV || {};\n",
       "                    \n",
       "                if (document.getElementById(\"be73ae00-befa-43cc-bcd7-c3d51973b3f3\")) {\n",
       "                    Plotly.newPlot(\n",
       "                        'be73ae00-befa-43cc-bcd7-c3d51973b3f3',\n",
       "                        [{\"mode\": \"lines\", \"name\": \"Italy\", \"type\": \"scatter\", \"y\": [null, 0.0, 0.0, 0.0, 0.0, 0.0, 0.0, 0.5, 0.0, 0.0, 0.0, 0.0, 0.0, 0.0, 0.0, 0.0, 0.0, 0.0, 0.0, 0.0, 0.0, 5.666666666666667, 2.1, 1.5, 0.4774193548387098, 0.4061135371179039, 0.4068322981366459, 0.44591611479028703, 0.35572519083969456, 0.2702702702702702, 0.50177304964539, 0.2018890200708383, 0.22888015717092336, 0.23461231015187844, 0.24894787957267717, 0.2016588906168999, 0.26898188093183784, 0.2536121026687064, 0.24366101694915243, 0.10651984300043615, 0.22790422701744006, 0.2127266891349704, 0.1685304042876994, 0.19801812004530017, 0.16968379259819444, 0.1306420980320846, 0.12601858470335947, 0.13353012124674657, 0.14902136476913164, 0.14587547215791408, 0.1394483315965207, 0.10377393706372029, 0.08098008048970207, 0.08210928089852487, 0.07531513819821911, 0.08338934745785487, 0.07332266190174841, 0.06906518069781953, 0.05641707760186865, 0.04145809661272004, 0.039837230560552106, 0.04520190562613435, 0.04221607249443804, 0.039785841967338254, 0.04009947674564174, 0.034629950574491364, 0.027910475540527946, 0.02292771620632683, 0.028292006549348825, 0.030153060492605244, 0.02750894684806382, 0.03180712441640643, 0.026873140650550686, 0.020164616949022385, 0.018631359863587438, 0.016413519767613627, 0.022923919953982574, 0.0206758572519401, 0.020245427235928037, 0.01731988063095069, 0.01260532373779144, 0.015058379499856445, 0.018319498578472038, 0.01412503269683496, 0.015902259794812856, 0.012212814906162883, 0.011896534955029736, 0.008797268243328604, 0.010485723168884853, 0.010352100444157797, 0.009194905472245773, 0.009563765738843433, 0.009159804847947317, 0.006635519376289922, 0.005794501630148385, 0.005072238107371119, 0.006778928985554877, 0.006532778132679384, 0.006147559969980287, 0.0049865322190758565, 0.003674381952462058, 0.003396174738667934, 0.006378119683004613, 0.0040141761897873884, 0.004466376112091552, 0.0035365941119518407, 0.003908256470956051, 0.0030032034169780175, 0.002000576662896103, 0.0035991606385521457, 0.0029334050878035978]}, {\"mode\": \"lines\", \"name\": \"Czechia\", \"type\": \"scatter\", \"y\": [null, 0.0, 0.6666666666666665, 0.6000000000000001, 0.5, 0.5, 0.05555555555555558, 0.631578947368421, 0.0, 0.32258064516129026, 1.2195121951219514, 0.03296703296703285, 0.5000000000000002, 0.34042553191489344, 0.3386243386243388, 0.1778656126482212, 0.3288590604026844, 0.17171717171717193, 0.4956896551724137, 0.20028818443804042, 0.19447779111644659, 0.12562814070351758, 0.10357142857142865, 0.12783171521035608, 0.18651362984218078, 0.1638452237001209, 0.183896103896104, 0.1544537077665642, 0.07069555302166486, 0.06531771388001406, 0.10229923358880377, 0.060459492140265914, 0.09977194982896243, 0.06039398652151373, 0.09313126374969438, 0.02571556350626114, 0.05123174187922386, 0.0404396515968477, 0.05880007972892165, 0.04838102409638556, 0.02926916861195905, 0.01727145847871614, 0.02743954724747022, 0.01135035887164082, 0.008582274302690207, 0.01718213058419238, 0.03490990990990994, 0.01803202238457957, 0.008703618873110441, 0.021192854980320863, 0.022828342721612715, 0.01927536231884064, 0.01407649651642262, 0.007711721817162065, 0.011966049812160762, 0.010862092671524826, 0.007072905331882318, 0.005537547271744936, 0.00792478173270661, 0.009994669509594933, 0.013590183401503975, 0.007159593855766699, 0.0023264831329974367, 0.0033526756931012702, 0.004883691042282479, 0.009847806624888156, 0.009878419452887366, 0.007148231753197898, 0.005727804756568311, 0.002228550204283586, 0.003458925262507684, 0.006524682998892084, 0.005503913894324919, 0.005838705753558049, 0.009916555810859817, 0.006586037600287531, 0.0058291696407326565, 0.0023654642223536193, 0.01309734513274341, 0.007104588865595174, 0.008557881346131557, 0.0, null, null, null, null, null, null, null, null, null, null, null, null, null, null, null, null, null, null, null, null, null, null, null, null, null, null, null, null, null]}, {\"mode\": \"lines\", \"name\": \"Sweden\", \"type\": \"scatter\", \"y\": [null, 0.0, 0.0, 0.0, 0.0, 0.0, 0.0, 0.0, 0.0, 0.0, 0.0, 0.0, 0.0, 0.0, 0.0, 0.0, 0.0, 0.0, 0.0, 0.0, 0.0, 0.0, 0.0, 0.0, 0.0, 0.0, 1.0, 2.5, 0.0, 0.7142857142857142, 0.16666666666666674, 0.07142857142857162, 0.3999999999999999, 0.6666666666666667, 1.6857142857142855, 0.07446808510638303, 0.5940594059405941, 0.26086956521739135, 0.22167487684729048, 0.431451612903226, 0.408450704225352, 0.19800000000000018, 0.358931552587646, 0.18058968058968072, 0.06347554630593111, 0.07925636007827785, 0.07887579329102445, 0.07478991596638673, 0.12509773260359647, 0.13898540653231395, 0.07565588773642484, 0.09699376063528065, 0.05791106514994837, 0.11730205278592387, 0.10498687664041984, 0.1243072050673002, 0.08063380281690136, 0.12316715542522005, 0.0733971569480707, 0.08864864864864841, 0.10104270109235358, 0.11544532130777907, 0.1255306246209824, 0.10111350574712641, 0.05088892513456189, 0.060065187024678, 0.05505124450951682, 0.0675825700804884, 0.09437150656440929, 0.08575840361088005, 0.05951208839295474, 0.04811564274651525, 0.03270613732637173, 0.0443575312410569, 0.045396419437340185, 0.04211446046308431, 0.05139599228640912, 0.053907496012759015, 0.04585351089588374, 0.04073216611199526, 0.027250608272506138, 0.03688164038708819, 0.04451116042292136, 0.04692576855786035, 0.04846314532975238, 0.03472419878180699, 0.02547175001375357, 0.015343347639484861, 0.03672196977702624, 0.034707711125834706, 0.03891242242143633, 0.020292053859283232, 0.02611524163568757, 0.010642151978987435, 0.018102791593852308, 0.021786012939571275, 0.030237767057202047, 0.029475708671293566, 0.02607318360882105, 0.025964773401939478, 0.015470082172755584, 0.0132208798723501, 0.02257217847769044, 0.023357289527720537, 0.02411408506216639, 0.021866909243579702, 0.016092032731879424, 0.0157023957947231, 0.007762996383903431, 0.01389208940975073, 0.02350725672911458]}],\n",
       "                        {\"template\": {\"data\": {\"bar\": [{\"error_x\": {\"color\": \"#2a3f5f\"}, \"error_y\": {\"color\": \"#2a3f5f\"}, \"marker\": {\"line\": {\"color\": \"#E5ECF6\", \"width\": 0.5}}, \"type\": \"bar\"}], \"barpolar\": [{\"marker\": {\"line\": {\"color\": \"#E5ECF6\", \"width\": 0.5}}, \"type\": \"barpolar\"}], \"carpet\": [{\"aaxis\": {\"endlinecolor\": \"#2a3f5f\", \"gridcolor\": \"white\", \"linecolor\": \"white\", \"minorgridcolor\": \"white\", \"startlinecolor\": \"#2a3f5f\"}, \"baxis\": {\"endlinecolor\": \"#2a3f5f\", \"gridcolor\": \"white\", \"linecolor\": \"white\", \"minorgridcolor\": \"white\", \"startlinecolor\": \"#2a3f5f\"}, \"type\": \"carpet\"}], \"choropleth\": [{\"colorbar\": {\"outlinewidth\": 0, \"ticks\": \"\"}, \"type\": \"choropleth\"}], \"contour\": [{\"colorbar\": {\"outlinewidth\": 0, \"ticks\": \"\"}, \"colorscale\": [[0.0, \"#0d0887\"], [0.1111111111111111, \"#46039f\"], [0.2222222222222222, \"#7201a8\"], [0.3333333333333333, \"#9c179e\"], [0.4444444444444444, \"#bd3786\"], [0.5555555555555556, \"#d8576b\"], [0.6666666666666666, \"#ed7953\"], [0.7777777777777778, \"#fb9f3a\"], [0.8888888888888888, \"#fdca26\"], [1.0, \"#f0f921\"]], \"type\": \"contour\"}], \"contourcarpet\": [{\"colorbar\": {\"outlinewidth\": 0, \"ticks\": \"\"}, \"type\": \"contourcarpet\"}], \"heatmap\": [{\"colorbar\": {\"outlinewidth\": 0, \"ticks\": \"\"}, \"colorscale\": [[0.0, \"#0d0887\"], [0.1111111111111111, \"#46039f\"], [0.2222222222222222, \"#7201a8\"], [0.3333333333333333, \"#9c179e\"], [0.4444444444444444, \"#bd3786\"], [0.5555555555555556, \"#d8576b\"], [0.6666666666666666, \"#ed7953\"], [0.7777777777777778, \"#fb9f3a\"], [0.8888888888888888, \"#fdca26\"], [1.0, \"#f0f921\"]], \"type\": \"heatmap\"}], \"heatmapgl\": [{\"colorbar\": {\"outlinewidth\": 0, \"ticks\": \"\"}, \"colorscale\": [[0.0, \"#0d0887\"], [0.1111111111111111, \"#46039f\"], [0.2222222222222222, \"#7201a8\"], [0.3333333333333333, \"#9c179e\"], [0.4444444444444444, \"#bd3786\"], [0.5555555555555556, \"#d8576b\"], [0.6666666666666666, \"#ed7953\"], [0.7777777777777778, \"#fb9f3a\"], [0.8888888888888888, \"#fdca26\"], [1.0, \"#f0f921\"]], \"type\": \"heatmapgl\"}], \"histogram\": [{\"marker\": {\"colorbar\": {\"outlinewidth\": 0, \"ticks\": \"\"}}, \"type\": \"histogram\"}], \"histogram2d\": [{\"colorbar\": {\"outlinewidth\": 0, \"ticks\": \"\"}, \"colorscale\": [[0.0, \"#0d0887\"], [0.1111111111111111, \"#46039f\"], [0.2222222222222222, \"#7201a8\"], [0.3333333333333333, \"#9c179e\"], [0.4444444444444444, \"#bd3786\"], [0.5555555555555556, \"#d8576b\"], [0.6666666666666666, \"#ed7953\"], [0.7777777777777778, \"#fb9f3a\"], [0.8888888888888888, \"#fdca26\"], [1.0, \"#f0f921\"]], \"type\": \"histogram2d\"}], \"histogram2dcontour\": [{\"colorbar\": {\"outlinewidth\": 0, \"ticks\": \"\"}, \"colorscale\": [[0.0, \"#0d0887\"], [0.1111111111111111, \"#46039f\"], [0.2222222222222222, \"#7201a8\"], [0.3333333333333333, \"#9c179e\"], [0.4444444444444444, \"#bd3786\"], [0.5555555555555556, \"#d8576b\"], [0.6666666666666666, \"#ed7953\"], [0.7777777777777778, \"#fb9f3a\"], [0.8888888888888888, \"#fdca26\"], [1.0, \"#f0f921\"]], \"type\": \"histogram2dcontour\"}], \"mesh3d\": [{\"colorbar\": {\"outlinewidth\": 0, \"ticks\": \"\"}, \"type\": \"mesh3d\"}], \"parcoords\": [{\"line\": {\"colorbar\": {\"outlinewidth\": 0, \"ticks\": \"\"}}, \"type\": \"parcoords\"}], \"pie\": [{\"automargin\": true, \"type\": \"pie\"}], \"scatter\": [{\"marker\": {\"colorbar\": {\"outlinewidth\": 0, \"ticks\": \"\"}}, \"type\": \"scatter\"}], \"scatter3d\": [{\"line\": {\"colorbar\": {\"outlinewidth\": 0, \"ticks\": \"\"}}, \"marker\": {\"colorbar\": {\"outlinewidth\": 0, \"ticks\": \"\"}}, \"type\": \"scatter3d\"}], \"scattercarpet\": [{\"marker\": {\"colorbar\": {\"outlinewidth\": 0, \"ticks\": \"\"}}, \"type\": \"scattercarpet\"}], \"scattergeo\": [{\"marker\": {\"colorbar\": {\"outlinewidth\": 0, \"ticks\": \"\"}}, \"type\": \"scattergeo\"}], \"scattergl\": [{\"marker\": {\"colorbar\": {\"outlinewidth\": 0, \"ticks\": \"\"}}, \"type\": \"scattergl\"}], \"scattermapbox\": [{\"marker\": {\"colorbar\": {\"outlinewidth\": 0, \"ticks\": \"\"}}, \"type\": \"scattermapbox\"}], \"scatterpolar\": [{\"marker\": {\"colorbar\": {\"outlinewidth\": 0, \"ticks\": \"\"}}, \"type\": \"scatterpolar\"}], \"scatterpolargl\": [{\"marker\": {\"colorbar\": {\"outlinewidth\": 0, \"ticks\": \"\"}}, \"type\": \"scatterpolargl\"}], \"scatterternary\": [{\"marker\": {\"colorbar\": {\"outlinewidth\": 0, \"ticks\": \"\"}}, \"type\": \"scatterternary\"}], \"surface\": [{\"colorbar\": {\"outlinewidth\": 0, \"ticks\": \"\"}, \"colorscale\": [[0.0, \"#0d0887\"], [0.1111111111111111, \"#46039f\"], [0.2222222222222222, \"#7201a8\"], [0.3333333333333333, \"#9c179e\"], [0.4444444444444444, \"#bd3786\"], [0.5555555555555556, \"#d8576b\"], [0.6666666666666666, \"#ed7953\"], [0.7777777777777778, \"#fb9f3a\"], [0.8888888888888888, \"#fdca26\"], [1.0, \"#f0f921\"]], \"type\": \"surface\"}], \"table\": [{\"cells\": {\"fill\": {\"color\": \"#EBF0F8\"}, \"line\": {\"color\": \"white\"}}, \"header\": {\"fill\": {\"color\": \"#C8D4E3\"}, \"line\": {\"color\": \"white\"}}, \"type\": \"table\"}]}, \"layout\": {\"annotationdefaults\": {\"arrowcolor\": \"#2a3f5f\", \"arrowhead\": 0, \"arrowwidth\": 1}, \"coloraxis\": {\"colorbar\": {\"outlinewidth\": 0, \"ticks\": \"\"}}, \"colorscale\": {\"diverging\": [[0, \"#8e0152\"], [0.1, \"#c51b7d\"], [0.2, \"#de77ae\"], [0.3, \"#f1b6da\"], [0.4, \"#fde0ef\"], [0.5, \"#f7f7f7\"], [0.6, \"#e6f5d0\"], [0.7, \"#b8e186\"], [0.8, \"#7fbc41\"], [0.9, \"#4d9221\"], [1, \"#276419\"]], \"sequential\": [[0.0, \"#0d0887\"], [0.1111111111111111, \"#46039f\"], [0.2222222222222222, \"#7201a8\"], [0.3333333333333333, \"#9c179e\"], [0.4444444444444444, \"#bd3786\"], [0.5555555555555556, \"#d8576b\"], [0.6666666666666666, \"#ed7953\"], [0.7777777777777778, \"#fb9f3a\"], [0.8888888888888888, \"#fdca26\"], [1.0, \"#f0f921\"]], \"sequentialminus\": [[0.0, \"#0d0887\"], [0.1111111111111111, \"#46039f\"], [0.2222222222222222, \"#7201a8\"], [0.3333333333333333, \"#9c179e\"], [0.4444444444444444, \"#bd3786\"], [0.5555555555555556, \"#d8576b\"], [0.6666666666666666, \"#ed7953\"], [0.7777777777777778, \"#fb9f3a\"], [0.8888888888888888, \"#fdca26\"], [1.0, \"#f0f921\"]]}, \"colorway\": [\"#636efa\", \"#EF553B\", \"#00cc96\", \"#ab63fa\", \"#FFA15A\", \"#19d3f3\", \"#FF6692\", \"#B6E880\", \"#FF97FF\", \"#FECB52\"], \"font\": {\"color\": \"#2a3f5f\"}, \"geo\": {\"bgcolor\": \"white\", \"lakecolor\": \"white\", \"landcolor\": \"#E5ECF6\", \"showlakes\": true, \"showland\": true, \"subunitcolor\": \"white\"}, \"hoverlabel\": {\"align\": \"left\"}, \"hovermode\": \"closest\", \"mapbox\": {\"style\": \"light\"}, \"paper_bgcolor\": \"white\", \"plot_bgcolor\": \"#E5ECF6\", \"polar\": {\"angularaxis\": {\"gridcolor\": \"white\", \"linecolor\": \"white\", \"ticks\": \"\"}, \"bgcolor\": \"#E5ECF6\", \"radialaxis\": {\"gridcolor\": \"white\", \"linecolor\": \"white\", \"ticks\": \"\"}}, \"scene\": {\"xaxis\": {\"backgroundcolor\": \"#E5ECF6\", \"gridcolor\": \"white\", \"gridwidth\": 2, \"linecolor\": \"white\", \"showbackground\": true, \"ticks\": \"\", \"zerolinecolor\": \"white\"}, \"yaxis\": {\"backgroundcolor\": \"#E5ECF6\", \"gridcolor\": \"white\", \"gridwidth\": 2, \"linecolor\": \"white\", \"showbackground\": true, \"ticks\": \"\", \"zerolinecolor\": \"white\"}, \"zaxis\": {\"backgroundcolor\": \"#E5ECF6\", \"gridcolor\": \"white\", \"gridwidth\": 2, \"linecolor\": \"white\", \"showbackground\": true, \"ticks\": \"\", \"zerolinecolor\": \"white\"}}, \"shapedefaults\": {\"line\": {\"color\": \"#2a3f5f\"}}, \"ternary\": {\"aaxis\": {\"gridcolor\": \"white\", \"linecolor\": \"white\", \"ticks\": \"\"}, \"baxis\": {\"gridcolor\": \"white\", \"linecolor\": \"white\", \"ticks\": \"\"}, \"bgcolor\": \"#E5ECF6\", \"caxis\": {\"gridcolor\": \"white\", \"linecolor\": \"white\", \"ticks\": \"\"}}, \"title\": {\"x\": 0.05}, \"xaxis\": {\"automargin\": true, \"gridcolor\": \"white\", \"linecolor\": \"white\", \"ticks\": \"\", \"title\": {\"standoff\": 15}, \"zerolinecolor\": \"white\", \"zerolinewidth\": 2}, \"yaxis\": {\"automargin\": true, \"gridcolor\": \"white\", \"linecolor\": \"white\", \"ticks\": \"\", \"title\": {\"standoff\": 15}, \"zerolinecolor\": \"white\", \"zerolinewidth\": 2}}}, \"title\": {\"text\": \"Percentage change between days\", \"x\": 0.5, \"xanchor\": \"center\", \"y\": 0.9, \"yanchor\": \"top\"}, \"xaxis\": {\"title\": {\"text\": \"Day number\"}}, \"yaxis\": {\"title\": {\"text\": \"Change\"}}},\n",
       "                        {\"responsive\": true}\n",
       "                    ).then(function(){\n",
       "                            \n",
       "var gd = document.getElementById('be73ae00-befa-43cc-bcd7-c3d51973b3f3');\n",
       "var x = new MutationObserver(function (mutations, observer) {{\n",
       "        var display = window.getComputedStyle(gd).display;\n",
       "        if (!display || display === 'none') {{\n",
       "            console.log([gd, 'removed!']);\n",
       "            Plotly.purge(gd);\n",
       "            observer.disconnect();\n",
       "        }}\n",
       "}});\n",
       "\n",
       "// Listen for the removal of the full notebook cells\n",
       "var notebookContainer = gd.closest('#notebook-container');\n",
       "if (notebookContainer) {{\n",
       "    x.observe(notebookContainer, {childList: true});\n",
       "}}\n",
       "\n",
       "// Listen for the clearing of the current output cell\n",
       "var outputEl = gd.closest('.output');\n",
       "if (outputEl) {{\n",
       "    x.observe(outputEl, {childList: true});\n",
       "}}\n",
       "\n",
       "                        })\n",
       "                };\n",
       "                });\n",
       "            </script>\n",
       "        </div>"
      ]
     },
     "metadata": {},
     "output_type": "display_data"
    }
   ],
   "source": [
    "plot_plotly(get_pct_change(summary), {\n",
    "    'title_text': 'Percentage change between days',\n",
    "    'xaxis_title': 'Day number',\n",
    "    'yaxis_title': 'Change'  \n",
    "}, type='')"
   ]
  },
  {
   "cell_type": "code",
   "execution_count": 475,
   "metadata": {},
   "outputs": [
    {
     "data": {
      "image/png": "[encoded data removed]",
      "text/plain": [
       "<Figure size 432x288 with 1 Axes>"
      ]
     },
     "metadata": {
      "needs_background": "light"
     },
     "output_type": "display_data"
    },
    {
     "data": {
      "image/png": "[encoded data removed]",
      "text/plain": [
       "<Figure size 432x288 with 1 Axes>"
      ]
     },
     "metadata": {
      "needs_background": "light"
     },
     "output_type": "display_data"
    },
    {
     "data": {
      "image/png": "[encoded data removed]",
      "text/plain": [
       "<Figure size 432x288 with 1 Axes>"
      ]
     },
     "metadata": {
      "needs_background": "light"
     },
     "output_type": "display_data"
    }
   ],
   "source": [
    "pct_change = get_pct_change(summary)\n",
    "for column in pct_change.columns:\n",
    "    pct_change.plot(y=column)"
   ]
  },
  {
   "cell_type": "code",
   "execution_count": null,
   "metadata": {},
   "outputs": [],
   "source": []
  }
 ],
 "metadata": {
  "kernelspec": {
   "display_name": "Python 3",
   "language": "python",
   "name": "python3"
  },
  "language_info": {
   "codemirror_mode": {
    "name": "ipython",
    "version": 3
   },
   "file_extension": ".py",
   "mimetype": "text/x-python",
   "name": "python",
   "nbconvert_exporter": "python",
   "pygments_lexer": "ipython3",
   "version": "3.8.2"
  }
 },
 "nbformat": 4,
 "nbformat_minor": 4
}
