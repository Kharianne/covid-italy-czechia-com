{
 "cells": [
  {
   "cell_type": "code",
   "execution_count": null,
   "metadata": {
    "execution": {
     "iopub.execute_input": "2024-06-25T14:07:57.171180Z",
     "iopub.status.busy": "2024-06-25T14:07:57.171180Z",
     "iopub.status.idle": "2024-06-25T14:07:57.537771Z",
     "shell.execute_reply": "2024-06-25T14:07:57.537771Z"
    }
   },
   "outputs": [],
   "source": [
    "import plotly\n",
    "import pandas as pd\n",
    "import plotly.express as px\n",
    "import plotly.graph_objects as go\n",
    "import os\n",
    "\n",
    "pd.options.plotting.backend = 'plotly'"
   ]
  },
  {
   "cell_type": "code",
   "execution_count": null,
   "metadata": {
    "execution": {
     "iopub.execute_input": "2024-06-25T14:07:57.539767Z",
     "iopub.status.busy": "2024-06-25T14:07:57.539767Z",
     "iopub.status.idle": "2024-06-25T14:07:57.608108Z",
     "shell.execute_reply": "2024-06-25T14:07:57.608108Z"
    }
   },
   "outputs": [],
   "source": [
    "if os.name == 'nt':\n",
    "    plotly.io.orca.config.executable = 'C:/Users/kharianne/AppData/Local/Programs/orca/orca.exe'\n",
    "    conf_gl = pd.read_csv(\"../COVID-19/csse_covid_19_data/csse_covid_19_time_series/time_series_covid19_confirmed_global.csv\")\n",
    "    deaths_gl = pd.read_csv(\"../COVID-19/csse_covid_19_data/csse_covid_19_time_series/time_series_covid19_deaths_global.csv\")\n",
    "else:    \n",
    "    conf_gl = pd.read_csv(\"COVID-19/csse_covid_19_data/csse_covid_19_time_series/time_series_covid19_confirmed_global.csv\")\n",
    "    deaths_gl = pd.read_csv(\"COVID-19/csse_covid_19_data/csse_covid_19_time_series/time_series_covid19_deaths_global.csv\")"
   ]
  },
  {
   "cell_type": "code",
   "execution_count": null,
   "metadata": {
    "execution": {
     "iopub.execute_input": "2024-06-25T14:07:57.610084Z",
     "iopub.status.busy": "2024-06-25T14:07:57.610084Z",
     "iopub.status.idle": "2024-06-25T14:07:57.612365Z",
     "shell.execute_reply": "2024-06-25T14:07:57.612365Z"
    }
   },
   "outputs": [],
   "source": [
    "base_country = (\"Italy\", 60480000)\n",
    "countries_to_watch = {\n",
    "    \"Czechia\": base_country[1]/10650000,\n",
    "    \"Sweden\": base_country[1]/10230000,\n",
    "    \"US\":base_country[1]/328239523\n",
    "}"
   ]
  },
  {
   "cell_type": "code",
   "execution_count": null,
   "metadata": {
    "execution": {
     "iopub.execute_input": "2024-06-25T14:07:57.613360Z",
     "iopub.status.busy": "2024-06-25T14:07:57.613360Z",
     "iopub.status.idle": "2024-06-25T14:07:57.616145Z",
     "shell.execute_reply": "2024-06-25T14:07:57.616145Z"
    }
   },
   "outputs": [],
   "source": [
    "def clear_transpose(df, state):\n",
    "    num = df.index[0]\n",
    "    df = df.drop([\"Province/State\", \"Country/Region\", \"Lat\", \"Long\"], axis=1)\n",
    "    df = df.transpose()\n",
    "    df = df.rename(columns={num: state})\n",
    "    df = df[df[state] > 0]\n",
    "    mapper = {}\n",
    "    for i, date in enumerate(df.index.values.tolist()):\n",
    "        mapper.update({date:i})\n",
    "    df = df.rename(mapper, axis='index')\n",
    "    return df"
   ]
  },
  {
   "cell_type": "code",
   "execution_count": null,
   "metadata": {
    "execution": {
     "iopub.execute_input": "2024-06-25T14:07:57.617884Z",
     "iopub.status.busy": "2024-06-25T14:07:57.616889Z",
     "iopub.status.idle": "2024-06-25T14:07:57.619525Z",
     "shell.execute_reply": "2024-06-25T14:07:57.619525Z"
    }
   },
   "outputs": [],
   "source": [
    "def slice_by_country(base_df, country):\n",
    "    df = base_df[base_df[\"Country/Region\"] == country]\n",
    "    if not df.empty:\n",
    "        df = clear_transpose(df, country)\n",
    "        return df\n",
    "    else:\n",
    "        raise ValueError(f\"{country} was not found in dataframe\")"
   ]
  },
  {
   "cell_type": "code",
   "execution_count": null,
   "metadata": {
    "execution": {
     "iopub.execute_input": "2024-06-25T14:07:57.620520Z",
     "iopub.status.busy": "2024-06-25T14:07:57.620520Z",
     "iopub.status.idle": "2024-06-25T14:07:57.622760Z",
     "shell.execute_reply": "2024-06-25T14:07:57.622760Z"
    }
   },
   "outputs": [],
   "source": [
    "def concat_slices(slices):\n",
    "    #keys = [slice.columns[0] for slice in slices]\n",
    "    summary = pd.concat(slices, axis=1)\n",
    "    return summary"
   ]
  },
  {
   "cell_type": "code",
   "execution_count": null,
   "metadata": {
    "execution": {
     "iopub.execute_input": "2024-06-25T14:07:57.623757Z",
     "iopub.status.busy": "2024-06-25T14:07:57.623757Z",
     "iopub.status.idle": "2024-06-25T14:07:57.626287Z",
     "shell.execute_reply": "2024-06-25T14:07:57.626287Z"
    }
   },
   "outputs": [],
   "source": [
    "def apply_ratio(df):\n",
    "    for country in df.columns:\n",
    "        if country == base_country[0]:\n",
    "            continue\n",
    "        df[country] = df[country].apply(lambda x: x * countries_to_watch[country])   \n",
    "    return df"
   ]
  },
  {
   "cell_type": "code",
   "execution_count": null,
   "metadata": {
    "execution": {
     "iopub.execute_input": "2024-06-25T14:07:57.628063Z",
     "iopub.status.busy": "2024-06-25T14:07:57.627068Z",
     "iopub.status.idle": "2024-06-25T14:07:57.630011Z",
     "shell.execute_reply": "2024-06-25T14:07:57.630011Z"
    }
   },
   "outputs": [],
   "source": [
    "def plot_plotly(df, info_dict, type='png'):\n",
    "    fig = go.Figure()\n",
    "    \n",
    "    for column in df.columns:\n",
    "        fig.add_trace(go.Scatter(y=df[column],\n",
    "                    mode='lines',\n",
    "                   name=column))\n",
    "    fig.update_layout(\n",
    "        title= {\n",
    "            'text': info_dict['title_text'],\n",
    "            'y':0.9,\n",
    "            'x':0.5,\n",
    "            'xanchor': 'center',\n",
    "            'yanchor': 'top'},\n",
    "        xaxis_title=info_dict['xaxis_title'],\n",
    "        yaxis_title=info_dict['yaxis_title'])\n",
    "    fig.show(type)"
   ]
  },
  {
   "cell_type": "code",
   "execution_count": null,
   "metadata": {
    "execution": {
     "iopub.execute_input": "2024-06-25T14:07:57.631007Z",
     "iopub.status.busy": "2024-06-25T14:07:57.631007Z",
     "iopub.status.idle": "2024-06-25T14:07:57.633237Z",
     "shell.execute_reply": "2024-06-25T14:07:57.633237Z"
    }
   },
   "outputs": [],
   "source": [
    "def get_pct_change(df):\n",
    "    pct_change_df = pd.DataFrame()\n",
    "    for column in df.columns:\n",
    "        pct_change_df[column] = df[column].pct_change(fill_method=None)\n",
    "    return pct_change_df"
   ]
  },
  {
   "cell_type": "code",
   "execution_count": null,
   "metadata": {
    "execution": {
     "iopub.execute_input": "2024-06-25T14:07:57.634233Z",
     "iopub.status.busy": "2024-06-25T14:07:57.634233Z",
     "iopub.status.idle": "2024-06-25T14:07:57.636747Z",
     "shell.execute_reply": "2024-06-25T14:07:57.636747Z"
    }
   },
   "outputs": [],
   "source": [
    "def get_last_x_days(df, x):\n",
    "    slices = []\n",
    "    for column in df.columns:\n",
    "        new = df[column].dropna(axis=0)\n",
    "        slices.append(new[new.index.size - x - 1 : new.index.size + 1].reset_index(drop=True))\n",
    "    return concat_slices(slices)"
   ]
  },
  {
   "cell_type": "code",
   "execution_count": null,
   "metadata": {
    "execution": {
     "iopub.execute_input": "2024-06-25T14:07:57.638062Z",
     "iopub.status.busy": "2024-06-25T14:07:57.638062Z",
     "iopub.status.idle": "2024-06-25T14:07:57.647349Z",
     "shell.execute_reply": "2024-06-25T14:07:57.647349Z"
    }
   },
   "outputs": [],
   "source": [
    "country_slices_conf = [slice_by_country(conf_gl, base_country[0])]\n",
    "for country in countries_to_watch:\n",
    "    try:\n",
    "        country_slices_conf.append(slice_by_country(conf_gl, country))\n",
    "    except ValueError as e:\n",
    "        print(e)\n",
    "        continue"
   ]
  },
  {
   "cell_type": "code",
   "execution_count": null,
   "metadata": {
    "execution": {
     "iopub.execute_input": "2024-06-25T14:07:57.648345Z",
     "iopub.status.busy": "2024-06-25T14:07:57.648345Z",
     "iopub.status.idle": "2024-06-25T14:07:57.657464Z",
     "shell.execute_reply": "2024-06-25T14:07:57.657464Z"
    }
   },
   "outputs": [],
   "source": [
    "country_slices_deaths = [slice_by_country(deaths_gl, base_country[0])]\n",
    "for country in countries_to_watch:\n",
    "    try:\n",
    "        country_slices_deaths.append(slice_by_country(deaths_gl, country))\n",
    "    except ValueError as e:\n",
    "        print(e)\n",
    "        continue"
   ]
  },
  {
   "cell_type": "code",
   "execution_count": null,
   "metadata": {
    "execution": {
     "iopub.execute_input": "2024-06-25T14:07:57.658457Z",
     "iopub.status.busy": "2024-06-25T14:07:57.658457Z",
     "iopub.status.idle": "2024-06-25T14:07:58.181800Z",
     "shell.execute_reply": "2024-06-25T14:07:58.181800Z"
    }
   },
   "outputs": [],
   "source": [
    "for slice in country_slices_conf:\n",
    "    slice.plot.line()\n",
    "summary = concat_slices(country_slices_conf)\n",
    "summary = apply_ratio(summary)\n",
    "summary.plot.line()"
   ]
  },
  {
   "cell_type": "code",
   "execution_count": null,
   "metadata": {
    "execution": {
     "iopub.execute_input": "2024-06-25T14:07:58.241129Z",
     "iopub.status.busy": "2024-06-25T14:07:58.241129Z",
     "iopub.status.idle": "2024-06-25T14:07:58.366186Z",
     "shell.execute_reply": "2024-06-25T14:07:58.366186Z"
    }
   },
   "outputs": [],
   "source": [
    "for slice in country_slices_deaths:\n",
    "    slice.plot.line()\n",
    "summary_deaths = concat_slices(country_slices_deaths)\n",
    "summary_deaths = apply_ratio(summary_deaths)\n",
    "summary_deaths.plot.line()"
   ]
  },
  {
   "cell_type": "code",
   "execution_count": null,
   "metadata": {
    "execution": {
     "iopub.execute_input": "2024-06-25T14:07:58.369970Z",
     "iopub.status.busy": "2024-06-25T14:07:58.369970Z",
     "iopub.status.idle": "2024-06-25T14:08:01.526880Z",
     "shell.execute_reply": "2024-06-25T14:08:01.526595Z"
    }
   },
   "outputs": [],
   "source": [
    "plot_plotly(summary, {\n",
    "    'title_text': 'Number of cases comparison since first infected',\n",
    "    'xaxis_title': 'Day number',\n",
    "    'yaxis_title': 'Number of infected'  \n",
    "})"
   ]
  },
  {
   "cell_type": "code",
   "execution_count": null,
   "metadata": {
    "execution": {
     "iopub.execute_input": "2024-06-25T14:08:01.527864Z",
     "iopub.status.busy": "2024-06-25T14:08:01.527864Z",
     "iopub.status.idle": "2024-06-25T14:08:01.597622Z",
     "shell.execute_reply": "2024-06-25T14:08:01.597622Z"
    }
   },
   "outputs": [],
   "source": [
    "plot_plotly(summary_deaths, {\n",
    "    'title_text': 'Deaths comparison since first death',\n",
    "    'xaxis_title': 'Day number',\n",
    "    'yaxis_title': 'Number of deaths'  \n",
    "})"
   ]
  },
  {
   "cell_type": "code",
   "execution_count": null,
   "metadata": {
    "execution": {
     "iopub.execute_input": "2024-06-25T14:08:01.599618Z",
     "iopub.status.busy": "2024-06-25T14:08:01.598618Z",
     "iopub.status.idle": "2024-06-25T14:08:01.673596Z",
     "shell.execute_reply": "2024-06-25T14:08:01.673596Z"
    }
   },
   "outputs": [],
   "source": [
    "plot_plotly(get_pct_change(summary), {\n",
    "    'title_text': 'Percentage change between days',\n",
    "    'xaxis_title': 'Day number',\n",
    "    'yaxis_title': 'Change'  \n",
    "}, type='png')"
   ]
  },
  {
   "cell_type": "code",
   "execution_count": null,
   "metadata": {
    "execution": {
     "iopub.execute_input": "2024-06-25T14:08:01.675596Z",
     "iopub.status.busy": "2024-06-25T14:08:01.675596Z",
     "iopub.status.idle": "2024-06-25T14:08:01.790652Z",
     "shell.execute_reply": "2024-06-25T14:08:01.790652Z"
    }
   },
   "outputs": [],
   "source": [
    "pct_change = get_pct_change(summary)\n",
    "for column in pct_change.columns:\n",
    "    pct_change.plot(y=column)"
   ]
  },
  {
   "cell_type": "code",
   "execution_count": null,
   "metadata": {
    "execution": {
     "iopub.execute_input": "2024-06-25T14:08:01.792650Z",
     "iopub.status.busy": "2024-06-25T14:08:01.792650Z",
     "iopub.status.idle": "2024-06-25T14:08:01.795650Z",
     "shell.execute_reply": "2024-06-25T14:08:01.795650Z"
    }
   },
   "outputs": [],
   "source": [
    "last_x_days = get_last_x_days(pct_change, 20)"
   ]
  },
  {
   "cell_type": "code",
   "execution_count": null,
   "metadata": {
    "execution": {
     "iopub.execute_input": "2024-06-25T14:08:01.797347Z",
     "iopub.status.busy": "2024-06-25T14:08:01.797183Z",
     "iopub.status.idle": "2024-06-25T14:08:01.850992Z",
     "shell.execute_reply": "2024-06-25T14:08:01.850992Z"
    }
   },
   "outputs": [],
   "source": [
    "plot_plotly(last_x_days, {\n",
    "    'title_text': 'Percentage change between days in last 20 days',\n",
    "    'xaxis_title': 'Day number',\n",
    "    'yaxis_title': 'Change'  \n",
    "}, type='png')"
   ]
  },
  {
   "cell_type": "code",
   "execution_count": null,
   "metadata": {},
   "outputs": [],
   "source": []
  }
 ],
 "metadata": {
  "kernelspec": {
   "display_name": "venv_kernel",
   "language": "python",
   "name": "venv_kernel"
  },
  "language_info": {
   "codemirror_mode": {
    "name": "ipython",
    "version": 3
   },
   "file_extension": ".py",
   "mimetype": "text/x-python",
   "name": "python",
   "nbconvert_exporter": "python",
   "pygments_lexer": "ipython3",
   "version": "3.12.0"
  }
 },
 "nbformat": 4,
 "nbformat_minor": 4
}
