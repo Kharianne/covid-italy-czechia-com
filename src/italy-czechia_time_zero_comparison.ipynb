{
 "cells": [
  {
   "cell_type": "code",
   "execution_count": null,
   "metadata": {},
   "outputs": [],
   "source": [
    "import plotly\n",
    "import pandas as pd\n",
    "import plotly.express as px\n",
    "import plotly.graph_objects as go\n",
    "import os\n",
    "\n",
    "pd.options.plotting.backend = 'plotly'"
   ]
  },
  {
   "cell_type": "code",
   "execution_count": null,
   "metadata": {},
   "outputs": [],
   "source": [
    "if os.name == 'nt':\n",
    "    plotly.io.orca.config.executable = 'C:/Users/kharianne/AppData/Local/Programs/orca/orca.exe'\n",
    "    conf_gl = pd.read_csv(\"../COVID-19/csse_covid_19_data/csse_covid_19_time_series/time_series_covid19_confirmed_global.csv\")\n",
    "    deaths_gl = pd.read_csv(\"../COVID-19/csse_covid_19_data/csse_covid_19_time_series/time_series_covid19_deaths_global.csv\")\n",
    "else:    \n",
    "    conf_gl = pd.read_csv(\"COVID-19/csse_covid_19_data/csse_covid_19_time_series/time_series_covid19_confirmed_global.csv\")\n",
    "    deaths_gl = pd.read_csv(\"COVID-19/csse_covid_19_data/csse_covid_19_time_series/time_series_covid19_deaths_global.csv\")"
   ]
  },
  {
   "cell_type": "code",
   "execution_count": null,
   "metadata": {},
   "outputs": [],
   "source": [
    "base_country = (\"Italy\", 60480000)\n",
    "countries_to_watch = {\n",
    "    \"Czechia\": base_country[1]/10650000,\n",
    "    \"Sweden\": base_country[1]/10230000,\n",
    "    \"US\":base_country[1]/328239523\n",
    "}"
   ]
  },
  {
   "cell_type": "code",
   "execution_count": null,
   "metadata": {},
   "outputs": [],
   "source": [
    "def clear_transpose(df, state):\n",
    "    num = df.index[0]\n",
    "    df = df.drop([\"Province/State\", \"Country/Region\", \"Lat\", \"Long\"], axis=1)\n",
    "    df = df.transpose()\n",
    "    df = df.rename(columns={num: state})\n",
    "    df = df[df[state] > 0]\n",
    "    mapper = {}\n",
    "    for i, date in enumerate(df.index.values.tolist()):\n",
    "        mapper.update({date:i})\n",
    "    df = df.rename(mapper, axis='index')\n",
    "    return df"
   ]
  },
  {
   "cell_type": "code",
   "execution_count": null,
   "metadata": {},
   "outputs": [],
   "source": [
    "def slice_by_country(base_df, country):\n",
    "    df = base_df[base_df[\"Country/Region\"] == country]\n",
    "    if not df.empty:\n",
    "        df = clear_transpose(df, country)\n",
    "        return df\n",
    "    else:\n",
    "        raise ValueError(f\"{country} was not found in dataframe\")"
   ]
  },
  {
   "cell_type": "code",
   "execution_count": null,
   "metadata": {},
   "outputs": [],
   "source": [
    "def concat_slices(slices):\n",
    "    #keys = [slice.columns[0] for slice in slices]\n",
    "    summary = pd.concat(slices, axis=1)\n",
    "    return summary"
   ]
  },
  {
   "cell_type": "code",
   "execution_count": null,
   "metadata": {},
   "outputs": [],
   "source": [
    "def apply_ratio(df):\n",
    "    for country in df.columns:\n",
    "        if country == base_country[0]:\n",
    "            continue\n",
    "        df[country] = df[country].apply(lambda x: x * countries_to_watch[country])   \n",
    "    return df"
   ]
  },
  {
   "cell_type": "code",
   "execution_count": null,
   "metadata": {},
   "outputs": [],
   "source": [
    "def plot_plotly(df, info_dict, type='png'):\n",
    "    fig = go.Figure()\n",
    "    \n",
    "    for column in df.columns:\n",
    "        fig.add_trace(go.Scatter(y=df[column],\n",
    "                    mode='lines',\n",
    "                   name=column))\n",
    "    fig.update_layout(\n",
    "        title= {\n",
    "            'text': info_dict['title_text'],\n",
    "            'y':0.9,\n",
    "            'x':0.5,\n",
    "            'xanchor': 'center',\n",
    "            'yanchor': 'top'},\n",
    "        xaxis_title=info_dict['xaxis_title'],\n",
    "        yaxis_title=info_dict['yaxis_title'])\n",
    "    fig.show(type)"
   ]
  },
  {
   "cell_type": "code",
   "execution_count": null,
   "metadata": {},
   "outputs": [],
   "source": [
    "def get_pct_change(df):\n",
    "    pct_change_df = pd.DataFrame()\n",
    "    for column in df.columns:\n",
    "        pct_change_df[column] = df[column].pct_change(limit=1)\n",
    "    return pct_change_df"
   ]
  },
  {
   "cell_type": "code",
   "execution_count": null,
   "metadata": {},
   "outputs": [],
   "source": [
    "def get_last_x_days(df, x):\n",
    "    slices = []\n",
    "    for column in df.columns:\n",
    "        new = df[column].dropna(axis=0)\n",
    "        slices.append(new[new.index.size - x - 1 : new.index.size + 1].reset_index(drop=True))\n",
    "    return concat_slices(slices)"
   ]
  },
  {
   "cell_type": "code",
   "execution_count": null,
   "metadata": {},
   "outputs": [],
   "source": [
    "country_slices_conf = [slice_by_country(conf_gl, base_country[0])]\n",
    "for country in countries_to_watch:\n",
    "    try:\n",
    "        country_slices_conf.append(slice_by_country(conf_gl, country))\n",
    "    except ValueError as e:\n",
    "        print(e)\n",
    "        continue"
   ]
  },
  {
   "cell_type": "code",
   "execution_count": null,
   "metadata": {},
   "outputs": [],
   "source": [
    "country_slices_deaths = [slice_by_country(deaths_gl, base_country[0])]\n",
    "for country in countries_to_watch:\n",
    "    try:\n",
    "        country_slices_deaths.append(slice_by_country(deaths_gl, country))\n",
    "    except ValueError as e:\n",
    "        print(e)\n",
    "        continue"
   ]
  },
  {
   "cell_type": "code",
   "execution_count": null,
   "metadata": {},
   "outputs": [],
   "source": [
    "for slice in country_slices_conf:\n",
    "    slice.plot.line()\n",
    "summary = concat_slices(country_slices_conf)\n",
    "summary = apply_ratio(summary)\n",
    "summary.plot.line()"
   ]
  },
  {
   "cell_type": "code",
   "execution_count": null,
   "metadata": {},
   "outputs": [],
   "source": [
    "for slice in country_slices_deaths:\n",
    "    slice.plot.line()\n",
    "summary_deaths = concat_slices(country_slices_deaths)\n",
    "summary_deaths = apply_ratio(summary_deaths)\n",
    "summary_deaths.plot.line()"
   ]
  },
  {
   "cell_type": "code",
   "execution_count": null,
   "metadata": {},
   "outputs": [],
   "source": [
    "plot_plotly(summary, {\n",
    "    'title_text': 'Number of cases comparison since first infected',\n",
    "    'xaxis_title': 'Day number',\n",
    "    'yaxis_title': 'Number of infected'  \n",
    "})"
   ]
  },
  {
   "cell_type": "code",
   "execution_count": null,
   "metadata": {},
   "outputs": [],
   "source": [
    "plot_plotly(summary_deaths, {\n",
    "    'title_text': 'Deaths comparison since first death',\n",
    "    'xaxis_title': 'Day number',\n",
    "    'yaxis_title': 'Number of deaths'  \n",
    "})"
   ]
  },
  {
   "cell_type": "code",
   "execution_count": null,
   "metadata": {},
   "outputs": [],
   "source": [
    "plot_plotly(get_pct_change(summary), {\n",
    "    'title_text': 'Percentage change between days',\n",
    "    'xaxis_title': 'Day number',\n",
    "    'yaxis_title': 'Change'  \n",
    "}, type='png')"
   ]
  },
  {
   "cell_type": "code",
   "execution_count": null,
   "metadata": {},
   "outputs": [],
   "source": [
    "pct_change = get_pct_change(summary)\n",
    "for column in pct_change.columns:\n",
    "    pct_change.plot(y=column)"
   ]
  },
  {
   "cell_type": "code",
   "execution_count": null,
   "metadata": {},
   "outputs": [],
   "source": [
    "last_x_days = get_last_x_days(pct_change, 20)"
   ]
  },
  {
   "cell_type": "code",
   "execution_count": null,
   "metadata": {},
   "outputs": [],
   "source": [
    "plot_plotly(last_x_days, {\n",
    "    'title_text': 'Percentage change between days in last 20 days',\n",
    "    'xaxis_title': 'Day number',\n",
    "    'yaxis_title': 'Change'  \n",
    "}, type='png')"
   ]
  },
  {
   "cell_type": "code",
   "execution_count": null,
   "metadata": {},
   "outputs": [],
   "source": []
  }
 ],
 "metadata": {
  "kernelspec": {
   "display_name": "venv_kernel",
   "language": "python",
   "name": "venv_kernel"
  },
  "language_info": {
   "codemirror_mode": {
    "name": "ipython",
    "version": 3
   },
   "file_extension": ".py",
   "mimetype": "text/x-python",
   "name": "python",
   "nbconvert_exporter": "python",
   "pygments_lexer": "ipython3",
   "version": "3.12.0"
  }
 },
 "nbformat": 4,
 "nbformat_minor": 4
}
